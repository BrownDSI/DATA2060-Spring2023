{
 "cells": [
  {
   "cell_type": "markdown",
   "id": "95954e3e",
   "metadata": {},
   "source": [
    "# Object Oriented Programing\n",
    "\n",
    "- in DATA1030, we mostly used functions or just wrote lines of code into cells as a way of organization\n",
    "    - most software engineers would be outraged on how badly we organized code in 1030 :)\n",
    "    - it's an OK start if you are new to python and coding in general\n",
    "    - but it is time to do much much better!\n",
    "- OOP is a method of structuring your code into reusable units called classes\n",
    "- a class is a template and it does two things:\n",
    "    - it describes how information should be organized\n",
    "    - a class has methods which performs operations or interacts with other classes or outside info/data\n",
    "- when you fill up the template, you create an object\n",
    "    - an object is an instance of a class\n",
    "    "
   ]
  },
  {
   "cell_type": "markdown",
   "id": "8e518722",
   "metadata": {},
   "source": [
    "### Most python packages are organized around the idea of OOP\n",
    "- sklearn, pandas, numpy, matplotlib, tensorflow, keras, etc. are all object oriented\n",
    "- sklearn's LogisticRegression is a class\n",
    "    - the 'data' in the LogisticRegression class are the hyperparameters\n",
    "    - some methods are .fit(), .predict(), .score(), etc. which all take outside info (e.g., some X and y)\n",
    "    - once you set the hyperparameters of a logistic regression model, you create a logistic regression object\n",
    "    - you can create as many objects as you want!\n",
    "- pandas's DataFrame is a class\n",
    "    - it describes that tabular data in a DataFrame should have rows and columns, row and column indices, etc\n",
    "    - some methods are .head(), .shape, etc\n",
    "    - once you read in csv/excel/sql data into a pd.DataFrame, you create a DataFrame object\n",
    "    - you can create as many objects as you want!"
   ]
  },
  {
   "cell_type": "code",
   "execution_count": 4,
   "id": "2469b721",
   "metadata": {},
   "outputs": [
    {
     "name": "stdout",
     "output_type": "stream",
     "text": [
      "Hi, I am Pikachu.\n",
      "Pika-pika-chuuu!\n",
      "Hi, I am Charmander.\n"
     ]
    }
   ],
   "source": [
    "class Pokemon:\n",
    "    def __init__(self,name):\n",
    "        '''\n",
    "        initialize the object\n",
    "        arguments passed as input will be bound to the class\n",
    "        __init__ can also contain other commands\n",
    "        self is constructor, contains all the attributes of the class\n",
    "        '''\n",
    "        self.name = name\n",
    "        \n",
    "    def say_hi(self):\n",
    "        '''\n",
    "        the first argument passed to all methods is self\n",
    "        the method can access (and modify if necessary) the arguments\n",
    "        '''\n",
    "        print('Hi, I am '+self.name+'.')\n",
    "        if self.name == 'Pikachu':\n",
    "            print('Pika-pika-chuuu!')\n",
    "            \n",
    "\n",
    "\n",
    "p1 = Pokemon('Pikachu') # one instance of the Person class, an object\n",
    "p1.say_hi()\n",
    "    \n",
    "p2 = Pokemon('Charmander') # another instance of the Person class, another object\n",
    "p2.say_hi()\n"
   ]
  },
  {
   "cell_type": "markdown",
   "id": "1048777e",
   "metadata": {},
   "source": [
    "## Typical class structure in this course"
   ]
  },
  {
   "cell_type": "code",
   "execution_count": null,
   "id": "58890971",
   "metadata": {},
   "outputs": [],
   "source": [
    "class ML_algorithm:\n",
    "    '''\n",
    "    The class of a supervised ML algorithm, a mathematical function which converts feature values into prediction.\n",
    "    It minimizes a loss function using some optimization algorithm in train.\n",
    "    It uses the trained model to provide predictions.\n",
    "    '''\n",
    "    def __init__(self, hyperparameter1, hyperparameter2, ...):\n",
    "        '''\n",
    "        the attributes of the model\n",
    "        '''\n",
    "        # hyperparameters like regularization, kernel width, max depth, etc.\n",
    "        # hyperparameters are not updated by the methods of the class!\n",
    "        # when you do cross-validation, you'd create a new object for each hyperparameter combination\n",
    "        self.hyperparameter1 = hyperparameter1\n",
    "        self.hyperparameter2 = hyperparameter2\n",
    "        ...\n",
    "        # you would initialize any other model parameters here (e.g., weights in linear and logistic regression)\n",
    "        # these parameters are updated by .train() to minimize the loss\n",
    "        self.parameters = ...\n",
    "        \n",
    "    def train(self, X, Y):\n",
    "        '''\n",
    "        Trains the ML model by finding the optimal set of parameters using an optimization algorithm.\n",
    "        In sklearn .train() is often called .fit()\n",
    "        @params:\n",
    "            X: 2D Numpy array where each row contains an example, padded by 1 column for the bias\n",
    "            Y: 1D Numpy array containing the corresponding values for each example\n",
    "        @return:\n",
    "            None - self.parameters will be updated, nothing needs to be returned\n",
    "        '''\n",
    "        # [TODO]\n",
    "\n",
    "\n",
    "    def predict(self, X):\n",
    "        '''\n",
    "        Returns predictions of the model on a set of examples X.\n",
    "        @params:\n",
    "            X: a 2D Numpy array where each row contains an example, padded by 1 column for the bias\n",
    "        @return:\n",
    "            A 1D Numpy array with one element for each row in X containing the predicted value.\n",
    "        '''\n",
    "        # [TODO]\n",
    "        return y_pred\n",
    "\n",
    "\n",
    "    def loss(self, X, Y):\n",
    "        '''\n",
    "        Returns the loss function on some dataset (X, Y).\n",
    "        @params:\n",
    "            X: 2D Numpy array where each row contains an example, padded by 1 column for the bias\n",
    "            Y: 1D Numpy array containing the corresponding values for each example\n",
    "        @return:\n",
    "            A float number which is the loss of the model on the dataset\n",
    "        '''\n",
    "        # [TODO]\n",
    "        return loss"
   ]
  },
  {
   "cell_type": "markdown",
   "id": "dae6723b",
   "metadata": {},
   "source": [
    "# Pros and cons of OOP\n",
    "- Pros:\n",
    "    - code structure is nice and clean, easy to maintain, develop, debug\n",
    "    - code is resuable\n",
    "    - secure with respect to data\n",
    "        - any data provided to an object only lives within the object and it can only be accessed by the methods of the corresponding class\n",
    "- Cons:\n",
    "    - code base can be larger than other approaches\n",
    "    - it takes some time to get used to it\n",
    "    - OOP is not suitable for all problems (it can be slower than traditional approaches)"
   ]
  },
  {
   "cell_type": "markdown",
   "id": "2ec94aba",
   "metadata": {},
   "source": [
    "## When not to use OOP?\n",
    "- retail example\n",
    "- you work with the log files of a retail company\n",
    "- each row in the log describes a customer buying a certain product\n",
    "- you have the genius idea to write a customer class to handle the data"
   ]
  },
  {
   "cell_type": "code",
   "execution_count": null,
   "id": "04c6f636",
   "metadata": {},
   "outputs": [],
   "source": [
    "class customer:\n",
    "    \"\"\"\n",
    "    a class to collect all data on a customer and to calculate some stats\n",
    "    \n",
    "    \"\"\"\n",
    "    def __init__(self,customer_ID,DataFrame):\n",
    "        self.customer_ID = customer_ID\n",
    "        self.data = DataFrame[DataFrame['customer'] == self.customer_ID]\n",
    "        \n",
    "    def nr_products_bought(self):\n",
    "        return self.data.shape(0) # return number of rows\n",
    "    \n",
    "    def avg_price(self):\n",
    "        return self.data['price'].mean()\n",
    "    \n",
    "# open the log file\n",
    "df = pd.read_csv('log_file.csv')\n",
    "customers = []\n",
    "for customer_ID in customer_IDs:\n",
    "    customer = customer(customer_ID,df) # we create a customer object\n",
    "    customers.append(customer) # store it in a list"
   ]
  },
  {
   "cell_type": "markdown",
   "id": "196fd80b",
   "metadata": {},
   "source": [
    "- the approach above is very slow...\n",
    "- sometimes it is better to manipulate data on all customers at once\n"
   ]
  },
  {
   "cell_type": "markdown",
   "id": "5db28613",
   "metadata": {},
   "source": [
    "# Time for our first Mud card!"
   ]
  },
  {
   "cell_type": "code",
   "execution_count": null,
   "id": "ebd8ff11",
   "metadata": {},
   "outputs": [],
   "source": []
  }
 ],
 "metadata": {
  "kernelspec": {
   "display_name": "Python 3 (ipykernel)",
   "language": "python",
   "name": "python3"
  },
  "language_info": {
   "codemirror_mode": {
    "name": "ipython",
    "version": 3
   },
   "file_extension": ".py",
   "mimetype": "text/x-python",
   "name": "python",
   "nbconvert_exporter": "python",
   "pygments_lexer": "ipython3",
   "version": "3.10.7"
  }
 },
 "nbformat": 4,
 "nbformat_minor": 5
}
